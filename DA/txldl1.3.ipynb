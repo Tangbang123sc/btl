{
 "cells": [
  {
   "cell_type": "code",
   "execution_count": 1,
   "id": "bacaefd8-02a4-4487-a0a7-e99e9704ec1d",
   "metadata": {},
   "outputs": [],
   "source": [
    "import pandas as pd\n",
    "import numpy as np\n",
    "import matplotlib.pyplot as plt\n",
    "import seaborn as sns\n",
    "from sklearn.preprocessing import RobustScaler"
   ]
  },
  {
   "cell_type": "code",
   "execution_count": 2,
   "id": "f04fb8df-df85-4071-9bdd-6aed43a620ea",
   "metadata": {},
   "outputs": [],
   "source": [
    "# tạo các cột theo các phần phối khác nhau\n",
    "df = pd.DataFrame({ \n",
    "    'beta': np.random.beta(5, 1, 1000) * 60,        # beta\n",
    "    'exponential': np.random.exponential(10, 1000), # exponential\n",
    "    'normal_p': np.random.normal(10, 2, 1000),      # normal platykurtic\n",
    "    'normal_l': np.random.normal(10, 10, 1000),     # normal leptokurtic\n",
    "})"
   ]
  },
  {
   "cell_type": "code",
   "execution_count": 3,
   "id": "72ce07e0-0f76-4e04-91c3-e954e24dc6d6",
   "metadata": {},
   "outputs": [
    {
     "name": "stdout",
     "output_type": "stream",
     "text": [
      "<class 'pandas.core.frame.DataFrame'>\n",
      "RangeIndex: 1000 entries, 0 to 999\n",
      "Data columns (total 4 columns):\n",
      " #   Column       Non-Null Count  Dtype  \n",
      "---  ------       --------------  -----  \n",
      " 0   beta         1000 non-null   float64\n",
      " 1   exponential  1000 non-null   float64\n",
      " 2   normal_p     1000 non-null   float64\n",
      " 3   normal_l     1000 non-null   float64\n",
      "dtypes: float64(4)\n",
      "memory usage: 31.4 KB\n"
     ]
    }
   ],
   "source": [
    "df.info()"
   ]
  },
  {
   "cell_type": "code",
   "execution_count": 4,
   "id": "b360ee2a-6e4d-481c-af20-985b3235912e",
   "metadata": {},
   "outputs": [],
   "source": [
    "# thêm dữ liệu được tạo theo phân phối nhị thức\n",
    "first_half = np.random.normal(20, 3, 500) \n",
    "second_half = np.random.normal(-20, 3, 500) \n",
    "bimodal = np.concatenate([first_half, second_half])\n",
    "\n",
    "df['bimodal'] = bimodal"
   ]
  },
  {
   "cell_type": "code",
   "execution_count": 5,
   "id": "d1003141-d405-4f9f-9780-b15f0a25314c",
   "metadata": {},
   "outputs": [
    {
     "data": {
      "text/html": [
       "<div>\n",
       "<style scoped>\n",
       "    .dataframe tbody tr th:only-of-type {\n",
       "        vertical-align: middle;\n",
       "    }\n",
       "\n",
       "    .dataframe tbody tr th {\n",
       "        vertical-align: top;\n",
       "    }\n",
       "\n",
       "    .dataframe thead th {\n",
       "        text-align: right;\n",
       "    }\n",
       "</style>\n",
       "<table border=\"1\" class=\"dataframe\">\n",
       "  <thead>\n",
       "    <tr style=\"text-align: right;\">\n",
       "      <th></th>\n",
       "      <th>beta</th>\n",
       "      <th>exponential</th>\n",
       "      <th>normal_p</th>\n",
       "      <th>normal_l</th>\n",
       "      <th>bimodal</th>\n",
       "    </tr>\n",
       "  </thead>\n",
       "  <tbody>\n",
       "    <tr>\n",
       "      <th>0</th>\n",
       "      <td>39.916108</td>\n",
       "      <td>36.147733</td>\n",
       "      <td>8.615521</td>\n",
       "      <td>8.654942</td>\n",
       "      <td>22.758781</td>\n",
       "    </tr>\n",
       "    <tr>\n",
       "      <th>1</th>\n",
       "      <td>52.731202</td>\n",
       "      <td>4.956215</td>\n",
       "      <td>9.261520</td>\n",
       "      <td>18.856964</td>\n",
       "      <td>18.387779</td>\n",
       "    </tr>\n",
       "    <tr>\n",
       "      <th>2</th>\n",
       "      <td>44.910284</td>\n",
       "      <td>10.054227</td>\n",
       "      <td>10.950567</td>\n",
       "      <td>10.751232</td>\n",
       "      <td>23.334328</td>\n",
       "    </tr>\n",
       "    <tr>\n",
       "      <th>3</th>\n",
       "      <td>45.699394</td>\n",
       "      <td>6.220235</td>\n",
       "      <td>7.985085</td>\n",
       "      <td>8.789921</td>\n",
       "      <td>21.656264</td>\n",
       "    </tr>\n",
       "    <tr>\n",
       "      <th>4</th>\n",
       "      <td>45.858301</td>\n",
       "      <td>2.974296</td>\n",
       "      <td>10.004318</td>\n",
       "      <td>10.002899</td>\n",
       "      <td>23.023992</td>\n",
       "    </tr>\n",
       "  </tbody>\n",
       "</table>\n",
       "</div>"
      ],
      "text/plain": [
       "        beta  exponential   normal_p   normal_l    bimodal\n",
       "0  39.916108    36.147733   8.615521   8.654942  22.758781\n",
       "1  52.731202     4.956215   9.261520  18.856964  18.387779\n",
       "2  44.910284    10.054227  10.950567  10.751232  23.334328\n",
       "3  45.699394     6.220235   7.985085   8.789921  21.656264\n",
       "4  45.858301     2.974296  10.004318  10.002899  23.023992"
      ]
     },
     "execution_count": 5,
     "metadata": {},
     "output_type": "execute_result"
    }
   ],
   "source": [
    "# hiển thị dữ liệu\n",
    "df.head()"
   ]
  },
  {
   "cell_type": "code",
   "execution_count": 6,
   "id": "4393f1d5-7890-41f8-96a8-27da40551c46",
   "metadata": {},
   "outputs": [
    {
     "data": {
      "text/plain": [
       "<AxesSubplot:ylabel='Density'>"
      ]
     },
     "execution_count": 6,
     "metadata": {},
     "output_type": "execute_result"
    },
    {
     "data": {
      "image/png": "[encoded data removed]",
      "text/plain": [
       "<Figure size 432x288 with 1 Axes>"
      ]
     },
     "metadata": {
      "needs_background": "light"
     },
     "output_type": "display_data"
    }
   ],
   "source": [
    "sns.kdeplot(data=df)"
   ]
  },
  {
   "cell_type": "code",
   "execution_count": 7,
   "id": "8b7e8431-1d7d-4f29-b6d0-723791de30ea",
   "metadata": {},
   "outputs": [
    {
     "data": {
      "text/html": [
       "<div>\n",
       "<style scoped>\n",
       "    .dataframe tbody tr th:only-of-type {\n",
       "        vertical-align: middle;\n",
       "    }\n",
       "\n",
       "    .dataframe tbody tr th {\n",
       "        vertical-align: top;\n",
       "    }\n",
       "\n",
       "    .dataframe thead th {\n",
       "        text-align: right;\n",
       "    }\n",
       "</style>\n",
       "<table border=\"1\" class=\"dataframe\">\n",
       "  <thead>\n",
       "    <tr style=\"text-align: right;\">\n",
       "      <th></th>\n",
       "      <th>beta</th>\n",
       "      <th>exponential</th>\n",
       "      <th>normal_p</th>\n",
       "      <th>normal_l</th>\n",
       "      <th>bimodal</th>\n",
       "    </tr>\n",
       "  </thead>\n",
       "  <tbody>\n",
       "    <tr>\n",
       "      <th>count</th>\n",
       "      <td>1000.000000</td>\n",
       "      <td>1000.000000</td>\n",
       "      <td>1000.000000</td>\n",
       "      <td>1000.000000</td>\n",
       "      <td>1000.000000</td>\n",
       "    </tr>\n",
       "    <tr>\n",
       "      <th>mean</th>\n",
       "      <td>49.705017</td>\n",
       "      <td>9.538588</td>\n",
       "      <td>9.830202</td>\n",
       "      <td>9.735419</td>\n",
       "      <td>0.022937</td>\n",
       "    </tr>\n",
       "    <tr>\n",
       "      <th>std</th>\n",
       "      <td>8.571084</td>\n",
       "      <td>9.845265</td>\n",
       "      <td>1.992856</td>\n",
       "      <td>9.817215</td>\n",
       "      <td>20.230777</td>\n",
       "    </tr>\n",
       "    <tr>\n",
       "      <th>min</th>\n",
       "      <td>15.737496</td>\n",
       "      <td>0.010745</td>\n",
       "      <td>3.186248</td>\n",
       "      <td>-19.327892</td>\n",
       "      <td>-29.195743</td>\n",
       "    </tr>\n",
       "    <tr>\n",
       "      <th>25%</th>\n",
       "      <td>44.983636</td>\n",
       "      <td>2.532784</td>\n",
       "      <td>8.548238</td>\n",
       "      <td>3.357013</td>\n",
       "      <td>-19.942471</td>\n",
       "    </tr>\n",
       "    <tr>\n",
       "      <th>50%</th>\n",
       "      <td>51.934962</td>\n",
       "      <td>6.450525</td>\n",
       "      <td>9.818772</td>\n",
       "      <td>9.872944</td>\n",
       "      <td>-0.803092</td>\n",
       "    </tr>\n",
       "    <tr>\n",
       "      <th>75%</th>\n",
       "      <td>56.652840</td>\n",
       "      <td>13.596225</td>\n",
       "      <td>11.201378</td>\n",
       "      <td>16.169303</td>\n",
       "      <td>20.182882</td>\n",
       "    </tr>\n",
       "    <tr>\n",
       "      <th>max</th>\n",
       "      <td>59.995937</td>\n",
       "      <td>73.542624</td>\n",
       "      <td>16.664721</td>\n",
       "      <td>39.726598</td>\n",
       "      <td>28.979413</td>\n",
       "    </tr>\n",
       "  </tbody>\n",
       "</table>\n",
       "</div>"
      ],
      "text/plain": [
       "              beta  exponential     normal_p     normal_l      bimodal\n",
       "count  1000.000000  1000.000000  1000.000000  1000.000000  1000.000000\n",
       "mean     49.705017     9.538588     9.830202     9.735419     0.022937\n",
       "std       8.571084     9.845265     1.992856     9.817215    20.230777\n",
       "min      15.737496     0.010745     3.186248   -19.327892   -29.195743\n",
       "25%      44.983636     2.532784     8.548238     3.357013   -19.942471\n",
       "50%      51.934962     6.450525     9.818772     9.872944    -0.803092\n",
       "75%      56.652840    13.596225    11.201378    16.169303    20.182882\n",
       "max      59.995937    73.542624    16.664721    39.726598    28.979413"
      ]
     },
     "execution_count": 7,
     "metadata": {},
     "output_type": "execute_result"
    }
   ],
   "source": [
    "df.describe()"
   ]
  },
  {
   "cell_type": "code",
   "execution_count": 8,
   "id": "bfa7d0c6-8e4d-4778-8879-d9c231a4ddcc",
   "metadata": {},
   "outputs": [
    {
     "data": {
      "text/plain": [
       "<AxesSubplot:ylabel='Density'>"
      ]
     },
     "execution_count": 8,
     "metadata": {},
     "output_type": "execute_result"
    },
    {
     "data": {
      "image/png": "[encoded data removed]",
      "text/plain": [
       "<Figure size 432x288 with 1 Axes>"
      ]
     },
     "metadata": {
      "needs_background": "light"
     },
     "output_type": "display_data"
    }
   ],
   "source": [
    "normal_big = np.random.normal(1000000, 10000, (1000,1))  # normal distribution of large values\n",
    "df['normal_big'] = normal_big\n",
    "sns.kdeplot(data=df)"
   ]
  },
  {
   "cell_type": "code",
   "execution_count": 9,
   "id": "c27251f4-2063-4e36-9ff6-cb49c11a27d1",
   "metadata": {},
   "outputs": [
    {
     "data": {
      "text/plain": [
       "<AxesSubplot:>"
      ]
     },
     "execution_count": 9,
     "metadata": {},
     "output_type": "execute_result"
    },
    {
     "data": {
      "image/png": "[encoded data removed]",
      "text/plain": [
       "<Figure size 432x288 with 1 Axes>"
      ]
     },
     "metadata": {
      "needs_background": "light"
     },
     "output_type": "display_data"
    }
   ],
   "source": [
    "# trực quan hóa bằng biểu đồ box plot\n",
    "df.boxplot()"
   ]
  },
  {
   "cell_type": "code",
   "execution_count": 10,
   "id": "ecfa8122-c9d9-4e74-afe5-d23944a55ced",
   "metadata": {},
   "outputs": [],
   "source": [
    "# Khai báo đối tượng MinMaxScaler\n",
    "scaler = RobustScaler()"
   ]
  },
  {
   "cell_type": "code",
   "execution_count": 11,
   "id": "25c4b6c5-e021-440e-9834-532c727cf3e5",
   "metadata": {},
   "outputs": [],
   "source": [
    "# Chuẩn hóa dữ liệu trong df với StandardScaler\n",
    "df_s = scaler.fit_transform(df)\n",
    "\n",
    "# lấy danh sáchc cột\n",
    "col_names = list(df.columns)\n",
    "\n",
    "# chuyển về DataFrame, gán các cột của df cho dữ liệu đã được chuẩn hóa\n",
    "df_s = pd.DataFrame(df_s, columns=col_names)"
   ]
  },
  {
   "cell_type": "code",
   "execution_count": 12,
   "id": "74e80dc9-dc93-4dcb-ac66-2bf356231de4",
   "metadata": {},
   "outputs": [
    {
     "data": {
      "text/html": [
       "<div>\n",
       "<style scoped>\n",
       "    .dataframe tbody tr th:only-of-type {\n",
       "        vertical-align: middle;\n",
       "    }\n",
       "\n",
       "    .dataframe tbody tr th {\n",
       "        vertical-align: top;\n",
       "    }\n",
       "\n",
       "    .dataframe thead th {\n",
       "        text-align: right;\n",
       "    }\n",
       "</style>\n",
       "<table border=\"1\" class=\"dataframe\">\n",
       "  <thead>\n",
       "    <tr style=\"text-align: right;\">\n",
       "      <th></th>\n",
       "      <th>beta</th>\n",
       "      <th>exponential</th>\n",
       "      <th>normal_p</th>\n",
       "      <th>normal_l</th>\n",
       "      <th>bimodal</th>\n",
       "      <th>normal_big</th>\n",
       "    </tr>\n",
       "  </thead>\n",
       "  <tbody>\n",
       "    <tr>\n",
       "      <th>0</th>\n",
       "      <td>-1.029963</td>\n",
       "      <td>2.684265</td>\n",
       "      <td>-0.453520</td>\n",
       "      <td>-0.095065</td>\n",
       "      <td>0.587207</td>\n",
       "      <td>0.233899</td>\n",
       "    </tr>\n",
       "    <tr>\n",
       "      <th>1</th>\n",
       "      <td>0.068234</td>\n",
       "      <td>-0.135067</td>\n",
       "      <td>-0.210035</td>\n",
       "      <td>0.701203</td>\n",
       "      <td>0.478273</td>\n",
       "      <td>1.254824</td>\n",
       "    </tr>\n",
       "    <tr>\n",
       "      <th>2</th>\n",
       "      <td>-0.601984</td>\n",
       "      <td>0.325731</td>\n",
       "      <td>0.426587</td>\n",
       "      <td>0.068550</td>\n",
       "      <td>0.601550</td>\n",
       "      <td>-0.559024</td>\n",
       "    </tr>\n",
       "    <tr>\n",
       "      <th>3</th>\n",
       "      <td>-0.534361</td>\n",
       "      <td>-0.020815</td>\n",
       "      <td>-0.691139</td>\n",
       "      <td>-0.084530</td>\n",
       "      <td>0.559730</td>\n",
       "      <td>-1.816612</td>\n",
       "    </tr>\n",
       "    <tr>\n",
       "      <th>4</th>\n",
       "      <td>-0.520743</td>\n",
       "      <td>-0.314209</td>\n",
       "      <td>0.069934</td>\n",
       "      <td>0.010143</td>\n",
       "      <td>0.593816</td>\n",
       "      <td>0.427915</td>\n",
       "    </tr>\n",
       "  </tbody>\n",
       "</table>\n",
       "</div>"
      ],
      "text/plain": [
       "       beta  exponential  normal_p  normal_l   bimodal  normal_big\n",
       "0 -1.029963     2.684265 -0.453520 -0.095065  0.587207    0.233899\n",
       "1  0.068234    -0.135067 -0.210035  0.701203  0.478273    1.254824\n",
       "2 -0.601984     0.325731  0.426587  0.068550  0.601550   -0.559024\n",
       "3 -0.534361    -0.020815 -0.691139 -0.084530  0.559730   -1.816612\n",
       "4 -0.520743    -0.314209  0.069934  0.010143  0.593816    0.427915"
      ]
     },
     "execution_count": 12,
     "metadata": {},
     "output_type": "execute_result"
    }
   ],
   "source": [
    "df_s.head()"
   ]
  },
  {
   "cell_type": "code",
   "execution_count": 13,
   "id": "d74f6f1a-39aa-43da-901f-43857c0ef7f1",
   "metadata": {},
   "outputs": [
    {
     "data": {
      "text/plain": [
       "<AxesSubplot:ylabel='Density'>"
      ]
     },
     "execution_count": 13,
     "metadata": {},
     "output_type": "execute_result"
    },
    {
     "data": {
      "image/png": "[encoded data removed]",
      "text/plain": [
       "<Figure size 432x288 with 1 Axes>"
      ]
     },
     "metadata": {
      "needs_background": "light"
     },
     "output_type": "display_data"
    }
   ],
   "source": [
    "# biểu diễn dữ liệu đã được chuẩn hóa\n",
    "sns.kdeplot(data=df_s)"
   ]
  },
  {
   "cell_type": "code",
   "execution_count": 14,
   "id": "71eea385-cf12-44d3-9c29-b40bfd101881",
   "metadata": {},
   "outputs": [
    {
     "data": {
      "text/html": [
       "<div>\n",
       "<style scoped>\n",
       "    .dataframe tbody tr th:only-of-type {\n",
       "        vertical-align: middle;\n",
       "    }\n",
       "\n",
       "    .dataframe tbody tr th {\n",
       "        vertical-align: top;\n",
       "    }\n",
       "\n",
       "    .dataframe thead th {\n",
       "        text-align: right;\n",
       "    }\n",
       "</style>\n",
       "<table border=\"1\" class=\"dataframe\">\n",
       "  <thead>\n",
       "    <tr style=\"text-align: right;\">\n",
       "      <th></th>\n",
       "      <th>beta</th>\n",
       "      <th>exponential</th>\n",
       "      <th>normal_p</th>\n",
       "      <th>normal_l</th>\n",
       "      <th>bimodal</th>\n",
       "      <th>normal_big</th>\n",
       "    </tr>\n",
       "  </thead>\n",
       "  <tbody>\n",
       "    <tr>\n",
       "      <th>count</th>\n",
       "      <td>1000.000000</td>\n",
       "      <td>1.000000e+03</td>\n",
       "      <td>1.000000e+03</td>\n",
       "      <td>1000.000000</td>\n",
       "      <td>1000.000000</td>\n",
       "      <td>1000.000000</td>\n",
       "    </tr>\n",
       "    <tr>\n",
       "      <th>mean</th>\n",
       "      <td>-0.191097</td>\n",
       "      <td>2.791232e-01</td>\n",
       "      <td>4.308100e-03</td>\n",
       "      <td>-0.010734</td>\n",
       "      <td>0.020586</td>\n",
       "      <td>0.003028</td>\n",
       "    </tr>\n",
       "    <tr>\n",
       "      <th>std</th>\n",
       "      <td>0.734505</td>\n",
       "      <td>8.898917e-01</td>\n",
       "      <td>7.511313e-01</td>\n",
       "      <td>0.766234</td>\n",
       "      <td>0.504189</td>\n",
       "      <td>0.780684</td>\n",
       "    </tr>\n",
       "    <tr>\n",
       "      <th>min</th>\n",
       "      <td>-3.101965</td>\n",
       "      <td>-5.820774e-01</td>\n",
       "      <td>-2.499878e+00</td>\n",
       "      <td>-2.279127</td>\n",
       "      <td>-0.707599</td>\n",
       "      <td>-2.701056</td>\n",
       "    </tr>\n",
       "    <tr>\n",
       "      <th>25%</th>\n",
       "      <td>-0.595698</td>\n",
       "      <td>-3.541159e-01</td>\n",
       "      <td>-4.788794e-01</td>\n",
       "      <td>-0.508569</td>\n",
       "      <td>-0.476990</td>\n",
       "      <td>-0.503408</td>\n",
       "    </tr>\n",
       "    <tr>\n",
       "      <th>50%</th>\n",
       "      <td>0.000000</td>\n",
       "      <td>4.011548e-17</td>\n",
       "      <td>-3.347474e-16</td>\n",
       "      <td>0.000000</td>\n",
       "      <td>0.000000</td>\n",
       "      <td>0.000000</td>\n",
       "    </tr>\n",
       "    <tr>\n",
       "      <th>75%</th>\n",
       "      <td>0.404302</td>\n",
       "      <td>6.458841e-01</td>\n",
       "      <td>5.211206e-01</td>\n",
       "      <td>0.491431</td>\n",
       "      <td>0.523010</td>\n",
       "      <td>0.496592</td>\n",
       "    </tr>\n",
       "    <tr>\n",
       "      <th>max</th>\n",
       "      <td>0.690790</td>\n",
       "      <td>6.064306e+00</td>\n",
       "      <td>2.580320e+00</td>\n",
       "      <td>2.330079</td>\n",
       "      <td>0.742237</td>\n",
       "      <td>2.576224</td>\n",
       "    </tr>\n",
       "  </tbody>\n",
       "</table>\n",
       "</div>"
      ],
      "text/plain": [
       "              beta   exponential      normal_p     normal_l      bimodal  \\\n",
       "count  1000.000000  1.000000e+03  1.000000e+03  1000.000000  1000.000000   \n",
       "mean     -0.191097  2.791232e-01  4.308100e-03    -0.010734     0.020586   \n",
       "std       0.734505  8.898917e-01  7.511313e-01     0.766234     0.504189   \n",
       "min      -3.101965 -5.820774e-01 -2.499878e+00    -2.279127    -0.707599   \n",
       "25%      -0.595698 -3.541159e-01 -4.788794e-01    -0.508569    -0.476990   \n",
       "50%       0.000000  4.011548e-17 -3.347474e-16     0.000000     0.000000   \n",
       "75%       0.404302  6.458841e-01  5.211206e-01     0.491431     0.523010   \n",
       "max       0.690790  6.064306e+00  2.580320e+00     2.330079     0.742237   \n",
       "\n",
       "        normal_big  \n",
       "count  1000.000000  \n",
       "mean      0.003028  \n",
       "std       0.780684  \n",
       "min      -2.701056  \n",
       "25%      -0.503408  \n",
       "50%       0.000000  \n",
       "75%       0.496592  \n",
       "max       2.576224  "
      ]
     },
     "execution_count": 14,
     "metadata": {},
     "output_type": "execute_result"
    }
   ],
   "source": [
    "# thống kê về dữ liệu được sinh ra\n",
    "df_s.describe()"
   ]
  },
  {
   "cell_type": "code",
   "execution_count": 15,
   "id": "c0d7f8e0-71fc-4c53-a5be-fbe9eafe348f",
   "metadata": {},
   "outputs": [
    {
     "data": {
      "text/plain": [
       "<AxesSubplot:>"
      ]
     },
     "execution_count": 15,
     "metadata": {},
     "output_type": "execute_result"
    },
    {
     "data": {
      "image/png": "[encoded data removed]",
      "text/plain": [
       "<Figure size 432x288 with 1 Axes>"
      ]
     },
     "metadata": {
      "needs_background": "light"
     },
     "output_type": "display_data"
    }
   ],
   "source": [
    "df_s.boxplot()"
   ]
  },
  {
   "cell_type": "code",
   "execution_count": 17,
   "id": "f0748f7f-1006-4844-924a-4a77bf200d3b",
   "metadata": {},
   "outputs": [
    {
     "data": {
      "text/plain": [
       "[-3.1019651803694264,\n",
       " -0.5820774317391745,\n",
       " -2.499877562756023,\n",
       " -2.2791269038346527,\n",
       " -0.7075988076720144,\n",
       " -2.701056162011942]"
      ]
     },
     "execution_count": 17,
     "metadata": {},
     "output_type": "execute_result"
    }
   ],
   "source": [
    "# lấy các giá trị min ở mỗi cột\n",
    "mins = [df_s[col].min() for col in df_s.columns]\n",
    "mins"
   ]
  },
  {
   "cell_type": "code",
   "execution_count": 18,
   "id": "f151a9fe-30ad-4bd5-94ef-8e1c6c309775",
   "metadata": {},
   "outputs": [
    {
     "data": {
      "text/plain": [
       "[0.6907904892949395,\n",
       " 6.0643062270829375,\n",
       " 2.580319727328207,\n",
       " 2.330079382099667,\n",
       " 0.7422365907127335,\n",
       " 2.576223790468336]"
      ]
     },
     "execution_count": 18,
     "metadata": {},
     "output_type": "execute_result"
    }
   ],
   "source": [
    "# lấy giá trị max ở mỗi cột\n",
    "maxs = [df_s[col].max() for col in df_s.columns]\n",
    "maxs"
   ]
  },
  {
   "cell_type": "code",
   "execution_count": 19,
   "id": "4eff1b11-dffb-44aa-af08-2cf0696bbe48",
   "metadata": {},
   "outputs": [
    {
     "data": {
      "text/plain": [
       "array([ 5.19349616e+01,  6.45052476e+00,  9.81877239e+00,  9.87294419e+00,\n",
       "       -8.03091704e-01,  9.99514048e+05])"
      ]
     },
     "execution_count": 19,
     "metadata": {},
     "output_type": "execute_result"
    }
   ],
   "source": [
    "# giá trị trung vị của các đặc trưng của tập dữ liệu gốc\n",
    "scaler.center_"
   ]
  },
  {
   "cell_type": "code",
   "execution_count": null,
   "id": "f682eaab-cdea-44fd-a9db-532de94d3536",
   "metadata": {},
   "outputs": [],
   "source": []
  }
 ],
 "metadata": {
  "kernelspec": {
   "display_name": "Python 3 (ipykernel)",
   "language": "python",
   "name": "python3"
  },
  "language_info": {
   "codemirror_mode": {
    "name": "ipython",
    "version": 3
   },
   "file_extension": ".py",
   "mimetype": "text/x-python",
   "name": "python",
   "nbconvert_exporter": "python",
   "pygments_lexer": "ipython3",
   "version": "3.9.7"
  }
 },
 "nbformat": 4,
 "nbformat_minor": 5
}
