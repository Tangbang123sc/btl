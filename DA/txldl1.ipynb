{
 "cells": [
  {
   "cell_type": "code",
   "execution_count": 1,
   "id": "0646b09b-1027-4937-82d0-9a96fbb364c0",
   "metadata": {},
   "outputs": [],
   "source": [
    "import pandas as pd\n",
    "import numpy as np\n",
    "import matplotlib.pyplot as plt\n",
    "import seaborn as sns\n",
    "from sklearn.preprocessing import StandardScaler"
   ]
  },
  {
   "cell_type": "code",
   "execution_count": 2,
   "id": "b0e147c6-962c-4ee0-be8f-f7bf1958c6c0",
   "metadata": {},
   "outputs": [],
   "source": [
    "# tạo các cột theo các phần phối khác nhau\n",
    "df = pd.DataFrame({ \n",
    "    'beta': np.random.beta(5, 1, 1000) * 60,        # beta\n",
    "    'exponential': np.random.exponential(10, 1000), # exponential\n",
    "    'normal_p': np.random.normal(10, 2, 1000),      # normal platykurtic\n",
    "    'normal_l': np.random.normal(10, 10, 1000),     # normal leptokurtic\n",
    "})"
   ]
  },
  {
   "cell_type": "code",
   "execution_count": 3,
   "id": "c536850e-c30c-4f2f-8cd3-335f16ef96b5",
   "metadata": {},
   "outputs": [],
   "source": [
    "# thêm dữ liệu được tạo theo phân phối nhị thức\n",
    "first_half = np.random.normal(20, 3, 500) \n",
    "second_half = np.random.normal(-20, 3, 500) \n",
    "bimodal = np.concatenate([first_half, second_half])\n",
    "\n",
    "df['bimodal'] = bimodal"
   ]
  },
  {
   "cell_type": "code",
   "execution_count": 4,
   "id": "e8a427c9-4254-4f5b-abb0-6bedf794526f",
   "metadata": {},
   "outputs": [
    {
     "data": {
      "text/html": [
       "<div>\n",
       "<style scoped>\n",
       "    .dataframe tbody tr th:only-of-type {\n",
       "        vertical-align: middle;\n",
       "    }\n",
       "\n",
       "    .dataframe tbody tr th {\n",
       "        vertical-align: top;\n",
       "    }\n",
       "\n",
       "    .dataframe thead th {\n",
       "        text-align: right;\n",
       "    }\n",
       "</style>\n",
       "<table border=\"1\" class=\"dataframe\">\n",
       "  <thead>\n",
       "    <tr style=\"text-align: right;\">\n",
       "      <th></th>\n",
       "      <th>beta</th>\n",
       "      <th>exponential</th>\n",
       "      <th>normal_p</th>\n",
       "      <th>normal_l</th>\n",
       "      <th>bimodal</th>\n",
       "    </tr>\n",
       "  </thead>\n",
       "  <tbody>\n",
       "    <tr>\n",
       "      <th>0</th>\n",
       "      <td>40.078390</td>\n",
       "      <td>0.910947</td>\n",
       "      <td>6.974412</td>\n",
       "      <td>10.759720</td>\n",
       "      <td>20.130089</td>\n",
       "    </tr>\n",
       "    <tr>\n",
       "      <th>1</th>\n",
       "      <td>37.056169</td>\n",
       "      <td>5.644197</td>\n",
       "      <td>12.608257</td>\n",
       "      <td>35.927439</td>\n",
       "      <td>22.983597</td>\n",
       "    </tr>\n",
       "    <tr>\n",
       "      <th>2</th>\n",
       "      <td>47.651121</td>\n",
       "      <td>6.171460</td>\n",
       "      <td>8.995699</td>\n",
       "      <td>-10.757438</td>\n",
       "      <td>22.235497</td>\n",
       "    </tr>\n",
       "    <tr>\n",
       "      <th>3</th>\n",
       "      <td>52.536987</td>\n",
       "      <td>11.468897</td>\n",
       "      <td>11.340837</td>\n",
       "      <td>-9.229733</td>\n",
       "      <td>23.219042</td>\n",
       "    </tr>\n",
       "    <tr>\n",
       "      <th>4</th>\n",
       "      <td>49.109788</td>\n",
       "      <td>11.109313</td>\n",
       "      <td>10.140805</td>\n",
       "      <td>-3.131396</td>\n",
       "      <td>25.427133</td>\n",
       "    </tr>\n",
       "  </tbody>\n",
       "</table>\n",
       "</div>"
      ],
      "text/plain": [
       "        beta  exponential   normal_p   normal_l    bimodal\n",
       "0  40.078390     0.910947   6.974412  10.759720  20.130089\n",
       "1  37.056169     5.644197  12.608257  35.927439  22.983597\n",
       "2  47.651121     6.171460   8.995699 -10.757438  22.235497\n",
       "3  52.536987    11.468897  11.340837  -9.229733  23.219042\n",
       "4  49.109788    11.109313  10.140805  -3.131396  25.427133"
      ]
     },
     "execution_count": 4,
     "metadata": {},
     "output_type": "execute_result"
    }
   ],
   "source": [
    "# hiển thị dữ liệu\n",
    "df.head()"
   ]
  },
  {
   "cell_type": "code",
   "execution_count": 5,
   "id": "aaf005fc-d40d-45bf-9bf9-e884a246df4f",
   "metadata": {},
   "outputs": [
    {
     "data": {
      "text/plain": [
       "<AxesSubplot:ylabel='Density'>"
      ]
     },
     "execution_count": 5,
     "metadata": {},
     "output_type": "execute_result"
    },
    {
     "data": {
      "image/png": "[encoded data removed]",
      "text/plain": [
       "<Figure size 432x288 with 1 Axes>"
      ]
     },
     "metadata": {
      "needs_background": "light"
     },
     "output_type": "display_data"
    }
   ],
   "source": [
    "sns.kdeplot(data=df)"
   ]
  },
  {
   "cell_type": "code",
   "execution_count": 6,
   "id": "dfcbebc4-795f-4400-a0f2-79129ed66a95",
   "metadata": {},
   "outputs": [
    {
     "data": {
      "text/html": [
       "<div>\n",
       "<style scoped>\n",
       "    .dataframe tbody tr th:only-of-type {\n",
       "        vertical-align: middle;\n",
       "    }\n",
       "\n",
       "    .dataframe tbody tr th {\n",
       "        vertical-align: top;\n",
       "    }\n",
       "\n",
       "    .dataframe thead th {\n",
       "        text-align: right;\n",
       "    }\n",
       "</style>\n",
       "<table border=\"1\" class=\"dataframe\">\n",
       "  <thead>\n",
       "    <tr style=\"text-align: right;\">\n",
       "      <th></th>\n",
       "      <th>beta</th>\n",
       "      <th>exponential</th>\n",
       "      <th>normal_p</th>\n",
       "      <th>normal_l</th>\n",
       "      <th>bimodal</th>\n",
       "    </tr>\n",
       "  </thead>\n",
       "  <tbody>\n",
       "    <tr>\n",
       "      <th>count</th>\n",
       "      <td>1000.000000</td>\n",
       "      <td>1000.000000</td>\n",
       "      <td>1000.000000</td>\n",
       "      <td>1000.000000</td>\n",
       "      <td>1000.000000</td>\n",
       "    </tr>\n",
       "    <tr>\n",
       "      <th>mean</th>\n",
       "      <td>49.951016</td>\n",
       "      <td>10.069906</td>\n",
       "      <td>9.943912</td>\n",
       "      <td>10.134906</td>\n",
       "      <td>0.074147</td>\n",
       "    </tr>\n",
       "    <tr>\n",
       "      <th>std</th>\n",
       "      <td>8.387893</td>\n",
       "      <td>10.247747</td>\n",
       "      <td>2.035690</td>\n",
       "      <td>9.992682</td>\n",
       "      <td>20.071918</td>\n",
       "    </tr>\n",
       "    <tr>\n",
       "      <th>min</th>\n",
       "      <td>11.919871</td>\n",
       "      <td>0.002000</td>\n",
       "      <td>4.237280</td>\n",
       "      <td>-23.958045</td>\n",
       "      <td>-29.433913</td>\n",
       "    </tr>\n",
       "    <tr>\n",
       "      <th>25%</th>\n",
       "      <td>45.720680</td>\n",
       "      <td>3.064954</td>\n",
       "      <td>8.561014</td>\n",
       "      <td>2.969961</td>\n",
       "      <td>-19.979770</td>\n",
       "    </tr>\n",
       "    <tr>\n",
       "      <th>50%</th>\n",
       "      <td>52.102209</td>\n",
       "      <td>6.717304</td>\n",
       "      <td>9.927363</td>\n",
       "      <td>10.132203</td>\n",
       "      <td>0.009540</td>\n",
       "    </tr>\n",
       "    <tr>\n",
       "      <th>75%</th>\n",
       "      <td>56.416410</td>\n",
       "      <td>13.636051</td>\n",
       "      <td>11.405640</td>\n",
       "      <td>17.039219</td>\n",
       "      <td>19.953820</td>\n",
       "    </tr>\n",
       "    <tr>\n",
       "      <th>max</th>\n",
       "      <td>59.986501</td>\n",
       "      <td>97.356950</td>\n",
       "      <td>16.970032</td>\n",
       "      <td>42.787384</td>\n",
       "      <td>30.394933</td>\n",
       "    </tr>\n",
       "  </tbody>\n",
       "</table>\n",
       "</div>"
      ],
      "text/plain": [
       "              beta  exponential     normal_p     normal_l      bimodal\n",
       "count  1000.000000  1000.000000  1000.000000  1000.000000  1000.000000\n",
       "mean     49.951016    10.069906     9.943912    10.134906     0.074147\n",
       "std       8.387893    10.247747     2.035690     9.992682    20.071918\n",
       "min      11.919871     0.002000     4.237280   -23.958045   -29.433913\n",
       "25%      45.720680     3.064954     8.561014     2.969961   -19.979770\n",
       "50%      52.102209     6.717304     9.927363    10.132203     0.009540\n",
       "75%      56.416410    13.636051    11.405640    17.039219    19.953820\n",
       "max      59.986501    97.356950    16.970032    42.787384    30.394933"
      ]
     },
     "execution_count": 6,
     "metadata": {},
     "output_type": "execute_result"
    }
   ],
   "source": [
    "df.describe()"
   ]
  },
  {
   "cell_type": "code",
   "execution_count": 7,
   "id": "c921362c-0b56-4829-9002-9586ef4a3386",
   "metadata": {},
   "outputs": [
    {
     "data": {
      "text/plain": [
       "<AxesSubplot:ylabel='Density'>"
      ]
     },
     "execution_count": 7,
     "metadata": {},
     "output_type": "execute_result"
    },
    {
     "data": {
      "image/png": "[encoded data removed]",
      "text/plain": [
       "<Figure size 432x288 with 1 Axes>"
      ]
     },
     "metadata": {
      "needs_background": "light"
     },
     "output_type": "display_data"
    }
   ],
   "source": [
    "normal_big = np.random.normal(1000000, 10000, (1000,1))  # normal distribution of large values\n",
    "df['normal_big'] = normal_big\n",
    "sns.kdeplot(data=df)"
   ]
  },
  {
   "cell_type": "code",
   "execution_count": 8,
   "id": "689c2e16-dddf-4839-a55e-df79990ffc13",
   "metadata": {},
   "outputs": [
    {
     "data": {
      "text/plain": [
       "<AxesSubplot:>"
      ]
     },
     "execution_count": 8,
     "metadata": {},
     "output_type": "execute_result"
    },
    {
     "data": {
      "image/png": "[encoded data removed]",
      "text/plain": [
       "<Figure size 432x288 with 1 Axes>"
      ]
     },
     "metadata": {
      "needs_background": "light"
     },
     "output_type": "display_data"
    }
   ],
   "source": [
    "# trực quan hóa bằng biểu đồ box plot\n",
    "df.boxplot()"
   ]
  },
  {
   "cell_type": "code",
   "execution_count": 9,
   "id": "faa2d044-fbce-4d96-b144-52c01fdbc169",
   "metadata": {},
   "outputs": [],
   "source": [
    "# Khai báo đối tượng StandardScaler\n",
    "s_scaler = StandardScaler()"
   ]
  },
  {
   "cell_type": "code",
   "execution_count": 10,
   "id": "84395c87-850d-4b13-a08a-965287e1fa22",
   "metadata": {},
   "outputs": [],
   "source": [
    "# Chuẩn hóa dữ liệu trong df với StandardScaler\n",
    "df_s = s_scaler.fit_transform(df)"
   ]
  },
  {
   "cell_type": "code",
   "execution_count": 11,
   "id": "e6b29f05-7678-4ed8-b0da-7fb423d9041c",
   "metadata": {},
   "outputs": [],
   "source": [
    "# lấy danh sáchc cột\n",
    "col_names = list(df.columns)"
   ]
  },
  {
   "cell_type": "code",
   "execution_count": 12,
   "id": "0da46ec1-f8df-4e69-9c9a-3e1371646b5e",
   "metadata": {},
   "outputs": [],
   "source": [
    "# chuyển về DataFrame, gán các cột của df cho dữ liệu đã được chuẩn hóa\n",
    "df_s = pd.DataFrame(df_s, columns=col_names)"
   ]
  },
  {
   "cell_type": "code",
   "execution_count": 13,
   "id": "20bfb646-ab7f-4a91-93a2-40d51f89596c",
   "metadata": {},
   "outputs": [
    {
     "data": {
      "text/html": [
       "<div>\n",
       "<style scoped>\n",
       "    .dataframe tbody tr th:only-of-type {\n",
       "        vertical-align: middle;\n",
       "    }\n",
       "\n",
       "    .dataframe tbody tr th {\n",
       "        vertical-align: top;\n",
       "    }\n",
       "\n",
       "    .dataframe thead th {\n",
       "        text-align: right;\n",
       "    }\n",
       "</style>\n",
       "<table border=\"1\" class=\"dataframe\">\n",
       "  <thead>\n",
       "    <tr style=\"text-align: right;\">\n",
       "      <th></th>\n",
       "      <th>beta</th>\n",
       "      <th>exponential</th>\n",
       "      <th>normal_p</th>\n",
       "      <th>normal_l</th>\n",
       "      <th>bimodal</th>\n",
       "      <th>normal_big</th>\n",
       "    </tr>\n",
       "  </thead>\n",
       "  <tbody>\n",
       "    <tr>\n",
       "      <th>0</th>\n",
       "      <td>-1.177598</td>\n",
       "      <td>-0.894201</td>\n",
       "      <td>-1.459449</td>\n",
       "      <td>0.062559</td>\n",
       "      <td>0.999704</td>\n",
       "      <td>-0.149351</td>\n",
       "    </tr>\n",
       "    <tr>\n",
       "      <th>1</th>\n",
       "      <td>-1.538086</td>\n",
       "      <td>-0.432088</td>\n",
       "      <td>1.309471</td>\n",
       "      <td>2.582434</td>\n",
       "      <td>1.141939</td>\n",
       "      <td>0.103806</td>\n",
       "    </tr>\n",
       "    <tr>\n",
       "      <th>2</th>\n",
       "      <td>-0.274329</td>\n",
       "      <td>-0.380610</td>\n",
       "      <td>-0.466027</td>\n",
       "      <td>-2.091810</td>\n",
       "      <td>1.104650</td>\n",
       "      <td>1.470469</td>\n",
       "    </tr>\n",
       "    <tr>\n",
       "      <th>3</th>\n",
       "      <td>0.308452</td>\n",
       "      <td>0.136585</td>\n",
       "      <td>0.686560</td>\n",
       "      <td>-1.938852</td>\n",
       "      <td>1.153675</td>\n",
       "      <td>-0.154332</td>\n",
       "    </tr>\n",
       "    <tr>\n",
       "      <th>4</th>\n",
       "      <td>-0.100341</td>\n",
       "      <td>0.101479</td>\n",
       "      <td>0.096769</td>\n",
       "      <td>-1.328266</td>\n",
       "      <td>1.263739</td>\n",
       "      <td>-0.129004</td>\n",
       "    </tr>\n",
       "  </tbody>\n",
       "</table>\n",
       "</div>"
      ],
      "text/plain": [
       "       beta  exponential  normal_p  normal_l   bimodal  normal_big\n",
       "0 -1.177598    -0.894201 -1.459449  0.062559  0.999704   -0.149351\n",
       "1 -1.538086    -0.432088  1.309471  2.582434  1.141939    0.103806\n",
       "2 -0.274329    -0.380610 -0.466027 -2.091810  1.104650    1.470469\n",
       "3  0.308452     0.136585  0.686560 -1.938852  1.153675   -0.154332\n",
       "4 -0.100341     0.101479  0.096769 -1.328266  1.263739   -0.129004"
      ]
     },
     "execution_count": 13,
     "metadata": {},
     "output_type": "execute_result"
    }
   ],
   "source": [
    "df_s.head()"
   ]
  },
  {
   "cell_type": "code",
   "execution_count": 14,
   "id": "f8db8be9-3408-4353-be8b-b468c17a64e9",
   "metadata": {},
   "outputs": [
    {
     "data": {
      "text/plain": [
       "<AxesSubplot:ylabel='Density'>"
      ]
     },
     "execution_count": 14,
     "metadata": {},
     "output_type": "execute_result"
    },
    {
     "data": {
      "image/png": "[encoded data removed]",
      "text/plain": [
       "<Figure size 432x288 with 1 Axes>"
      ]
     },
     "metadata": {
      "needs_background": "light"
     },
     "output_type": "display_data"
    }
   ],
   "source": [
    "# biểu diễn dữ liệu đã được chuẩn hóa\n",
    "sns.kdeplot(data=df_s)"
   ]
  },
  {
   "cell_type": "code",
   "execution_count": 15,
   "id": "f645b308-f817-4321-a184-a724618f1e17",
   "metadata": {},
   "outputs": [
    {
     "data": {
      "text/html": [
       "<div>\n",
       "<style scoped>\n",
       "    .dataframe tbody tr th:only-of-type {\n",
       "        vertical-align: middle;\n",
       "    }\n",
       "\n",
       "    .dataframe tbody tr th {\n",
       "        vertical-align: top;\n",
       "    }\n",
       "\n",
       "    .dataframe thead th {\n",
       "        text-align: right;\n",
       "    }\n",
       "</style>\n",
       "<table border=\"1\" class=\"dataframe\">\n",
       "  <thead>\n",
       "    <tr style=\"text-align: right;\">\n",
       "      <th></th>\n",
       "      <th>beta</th>\n",
       "      <th>exponential</th>\n",
       "      <th>normal_p</th>\n",
       "      <th>normal_l</th>\n",
       "      <th>bimodal</th>\n",
       "      <th>normal_big</th>\n",
       "    </tr>\n",
       "  </thead>\n",
       "  <tbody>\n",
       "    <tr>\n",
       "      <th>count</th>\n",
       "      <td>1.000000e+03</td>\n",
       "      <td>1.000000e+03</td>\n",
       "      <td>1.000000e+03</td>\n",
       "      <td>1.000000e+03</td>\n",
       "      <td>1.000000e+03</td>\n",
       "      <td>1.000000e+03</td>\n",
       "    </tr>\n",
       "    <tr>\n",
       "      <th>mean</th>\n",
       "      <td>-6.566414e-16</td>\n",
       "      <td>-1.565414e-17</td>\n",
       "      <td>1.892930e-17</td>\n",
       "      <td>-1.003642e-16</td>\n",
       "      <td>-6.725731e-16</td>\n",
       "      <td>9.720239e-15</td>\n",
       "    </tr>\n",
       "    <tr>\n",
       "      <th>std</th>\n",
       "      <td>1.000500e+00</td>\n",
       "      <td>1.000500e+00</td>\n",
       "      <td>1.000500e+00</td>\n",
       "      <td>1.000500e+00</td>\n",
       "      <td>1.000500e+00</td>\n",
       "      <td>1.000500e+00</td>\n",
       "    </tr>\n",
       "    <tr>\n",
       "      <th>min</th>\n",
       "      <td>-4.536321e+00</td>\n",
       "      <td>-9.829423e-01</td>\n",
       "      <td>-2.804694e+00</td>\n",
       "      <td>-3.413499e+00</td>\n",
       "      <td>-1.470852e+00</td>\n",
       "      <td>-3.204921e+00</td>\n",
       "    </tr>\n",
       "    <tr>\n",
       "      <th>25%</th>\n",
       "      <td>-5.045907e-01</td>\n",
       "      <td>-6.839023e-01</td>\n",
       "      <td>-6.796663e-01</td>\n",
       "      <td>-7.173780e-01</td>\n",
       "      <td>-9.996031e-01</td>\n",
       "      <td>-6.732826e-01</td>\n",
       "    </tr>\n",
       "    <tr>\n",
       "      <th>50%</th>\n",
       "      <td>2.565923e-01</td>\n",
       "      <td>-3.273188e-01</td>\n",
       "      <td>-8.133765e-03</td>\n",
       "      <td>-2.705893e-04</td>\n",
       "      <td>-3.220391e-03</td>\n",
       "      <td>1.348379e-02</td>\n",
       "    </tr>\n",
       "    <tr>\n",
       "      <th>75%</th>\n",
       "      <td>7.711864e-01</td>\n",
       "      <td>3.481671e-01</td>\n",
       "      <td>7.184093e-01</td>\n",
       "      <td>6.912827e-01</td>\n",
       "      <td>9.909178e-01</td>\n",
       "      <td>6.521373e-01</td>\n",
       "    </tr>\n",
       "    <tr>\n",
       "      <th>max</th>\n",
       "      <td>1.197024e+00</td>\n",
       "      <td>8.521943e+00</td>\n",
       "      <td>3.453195e+00</td>\n",
       "      <td>3.269274e+00</td>\n",
       "      <td>1.511363e+00</td>\n",
       "      <td>3.547183e+00</td>\n",
       "    </tr>\n",
       "  </tbody>\n",
       "</table>\n",
       "</div>"
      ],
      "text/plain": [
       "               beta   exponential      normal_p      normal_l       bimodal  \\\n",
       "count  1.000000e+03  1.000000e+03  1.000000e+03  1.000000e+03  1.000000e+03   \n",
       "mean  -6.566414e-16 -1.565414e-17  1.892930e-17 -1.003642e-16 -6.725731e-16   \n",
       "std    1.000500e+00  1.000500e+00  1.000500e+00  1.000500e+00  1.000500e+00   \n",
       "min   -4.536321e+00 -9.829423e-01 -2.804694e+00 -3.413499e+00 -1.470852e+00   \n",
       "25%   -5.045907e-01 -6.839023e-01 -6.796663e-01 -7.173780e-01 -9.996031e-01   \n",
       "50%    2.565923e-01 -3.273188e-01 -8.133765e-03 -2.705893e-04 -3.220391e-03   \n",
       "75%    7.711864e-01  3.481671e-01  7.184093e-01  6.912827e-01  9.909178e-01   \n",
       "max    1.197024e+00  8.521943e+00  3.453195e+00  3.269274e+00  1.511363e+00   \n",
       "\n",
       "         normal_big  \n",
       "count  1.000000e+03  \n",
       "mean   9.720239e-15  \n",
       "std    1.000500e+00  \n",
       "min   -3.204921e+00  \n",
       "25%   -6.732826e-01  \n",
       "50%    1.348379e-02  \n",
       "75%    6.521373e-01  \n",
       "max    3.547183e+00  "
      ]
     },
     "execution_count": 15,
     "metadata": {},
     "output_type": "execute_result"
    }
   ],
   "source": [
    "# thống kê về dữ liệu được sinh ra\n",
    "df_s.describe()"
   ]
  },
  {
   "cell_type": "code",
   "execution_count": 16,
   "id": "e536ce60-c3de-4889-9e3a-fda97a424e30",
   "metadata": {},
   "outputs": [
    {
     "data": {
      "text/plain": [
       "<AxesSubplot:>"
      ]
     },
     "execution_count": 16,
     "metadata": {},
     "output_type": "execute_result"
    },
    {
     "data": {
      "image/png": "[encoded data removed]",
      "text/plain": [
       "<Figure size 432x288 with 1 Axes>"
      ]
     },
     "metadata": {
      "needs_background": "light"
     },
     "output_type": "display_data"
    }
   ],
   "source": [
    "# trực quan hóa bằng biểu đồ box plot\n",
    "df_s.boxplot()"
   ]
  },
  {
   "cell_type": "code",
   "execution_count": null,
   "id": "e74c7306-88cd-44f3-bd27-f3802eac1015",
   "metadata": {},
   "outputs": [],
   "source": []
  }
 ],
 "metadata": {
  "kernelspec": {
   "display_name": "Python 3 (ipykernel)",
   "language": "python",
   "name": "python3"
  },
  "language_info": {
   "codemirror_mode": {
    "name": "ipython",
    "version": 3
   },
   "file_extension": ".py",
   "mimetype": "text/x-python",
   "name": "python",
   "nbconvert_exporter": "python",
   "pygments_lexer": "ipython3",
   "version": "3.9.7"
  }
 },
 "nbformat": 4,
 "nbformat_minor": 5
}
