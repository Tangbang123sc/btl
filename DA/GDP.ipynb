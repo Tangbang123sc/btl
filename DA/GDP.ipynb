{
 "cells": [
  {
   "cell_type": "code",
   "execution_count": 12,
   "id": "34347749-e2f3-43c0-bc0f-52ebe5a8fa5b",
   "metadata": {},
   "outputs": [
    {
     "data": {
      "text/html": [
       "<div>\n",
       "<style scoped>\n",
       "    .dataframe tbody tr th:only-of-type {\n",
       "        vertical-align: middle;\n",
       "    }\n",
       "\n",
       "    .dataframe tbody tr th {\n",
       "        vertical-align: top;\n",
       "    }\n",
       "\n",
       "    .dataframe thead th {\n",
       "        text-align: right;\n",
       "    }\n",
       "</style>\n",
       "<table border=\"1\" class=\"dataframe\">\n",
       "  <thead>\n",
       "    <tr style=\"text-align: right;\">\n",
       "      <th></th>\n",
       "      <th>Country</th>\n",
       "      <th>Continent</th>\n",
       "      <th>GDP (millions of US$)</th>\n",
       "    </tr>\n",
       "  </thead>\n",
       "  <tbody>\n",
       "    <tr>\n",
       "      <th>0</th>\n",
       "      <td>Afghanistan</td>\n",
       "      <td>Asia</td>\n",
       "      <td>18181</td>\n",
       "    </tr>\n",
       "    <tr>\n",
       "      <th>1</th>\n",
       "      <td>Albania</td>\n",
       "      <td>Europe</td>\n",
       "      <td>12847</td>\n",
       "    </tr>\n",
       "    <tr>\n",
       "      <th>2</th>\n",
       "      <td>Algeria</td>\n",
       "      <td>Africa</td>\n",
       "      <td>190709</td>\n",
       "    </tr>\n",
       "    <tr>\n",
       "      <th>3</th>\n",
       "      <td>Angola</td>\n",
       "      <td>Africa</td>\n",
       "      <td>100948</td>\n",
       "    </tr>\n",
       "    <tr>\n",
       "      <th>4</th>\n",
       "      <td>Argentina</td>\n",
       "      <td>South America</td>\n",
       "      <td>447644</td>\n",
       "    </tr>\n",
       "    <tr>\n",
       "      <th>...</th>\n",
       "      <td>...</td>\n",
       "      <td>...</td>\n",
       "      <td>...</td>\n",
       "    </tr>\n",
       "    <tr>\n",
       "      <th>120</th>\n",
       "      <td>Uzbekistan</td>\n",
       "      <td>Asia</td>\n",
       "      <td>45353</td>\n",
       "    </tr>\n",
       "    <tr>\n",
       "      <th>121</th>\n",
       "      <td>Venezuela</td>\n",
       "      <td>South America</td>\n",
       "      <td>315841</td>\n",
       "    </tr>\n",
       "    <tr>\n",
       "      <th>122</th>\n",
       "      <td>Vietnam</td>\n",
       "      <td>Asia</td>\n",
       "      <td>122722</td>\n",
       "    </tr>\n",
       "    <tr>\n",
       "      <th>123</th>\n",
       "      <td>Yemen</td>\n",
       "      <td>Africa</td>\n",
       "      <td>33675</td>\n",
       "    </tr>\n",
       "    <tr>\n",
       "      <th>124</th>\n",
       "      <td>Zambia</td>\n",
       "      <td>Africa</td>\n",
       "      <td>19206</td>\n",
       "    </tr>\n",
       "  </tbody>\n",
       "</table>\n",
       "<p>125 rows × 3 columns</p>\n",
       "</div>"
      ],
      "text/plain": [
       "          Country      Continent  GDP (millions of US$)\n",
       "0     Afghanistan           Asia                  18181\n",
       "1         Albania         Europe                  12847\n",
       "2         Algeria         Africa                 190709\n",
       "3          Angola         Africa                 100948\n",
       "4       Argentina  South America                 447644\n",
       "..            ...            ...                    ...\n",
       "120    Uzbekistan           Asia                  45353\n",
       "121     Venezuela  South America                 315841\n",
       "122       Vietnam           Asia                 122722\n",
       "123         Yemen         Africa                  33675\n",
       "124        Zambia         Africa                  19206\n",
       "\n",
       "[125 rows x 3 columns]"
      ]
     },
     "execution_count": 12,
     "metadata": {},
     "output_type": "execute_result"
    }
   ],
   "source": [
    "import pandas as pd\n",
    "import numpy as np\n",
    "\n",
    "df = pd.read_csv(\"GDPlist.csv\", encoding = \"ISO-8859-1\")\n",
    "df"
   ]
  },
  {
   "cell_type": "code",
   "execution_count": 13,
   "id": "68acf3f5-3acd-46b6-8cde-5b18dab6ce4b",
   "metadata": {},
   "outputs": [
    {
     "name": "stdout",
     "output_type": "stream",
     "text": [
      "<class 'pandas.core.frame.DataFrame'>\n",
      "RangeIndex: 125 entries, 0 to 124\n",
      "Data columns (total 3 columns):\n",
      " #   Column                 Non-Null Count  Dtype \n",
      "---  ------                 --------------  ----- \n",
      " 0   Country                125 non-null    object\n",
      " 1   Continent              125 non-null    object\n",
      " 2   GDP (millions of US$)  125 non-null    int64 \n",
      "dtypes: int64(1), object(2)\n",
      "memory usage: 3.1+ KB\n"
     ]
    }
   ],
   "source": [
    "df.info()"
   ]
  },
  {
   "cell_type": "code",
   "execution_count": 14,
   "id": "e963d1f3-f9fb-4bbd-b0fa-9000b70e2374",
   "metadata": {},
   "outputs": [
    {
     "data": {
      "image/png": "[encoded data removed]",
      "text/plain": [
       "<Figure size 432x288 with 1 Axes>"
      ]
     },
     "metadata": {
      "needs_background": "light"
     },
     "output_type": "display_data"
    }
   ],
   "source": [
    "import matplotlib.pyplot as plt\n",
    "\n",
    "# Create a histogram of GDP values with 20 bins\n",
    "plt.hist(df['GDP (millions of US$)'], bins=20)\n",
    "\n",
    "# Set x and y axis labels and title\n",
    "plt.xlabel('GDP')\n",
    "plt.ylabel('Number of countries')\n",
    "plt.title('Histogram of GDP values')\n",
    "\n",
    "# Display the histogram\n",
    "plt.show()"
   ]
  },
  {
   "cell_type": "code",
   "execution_count": 15,
   "id": "1a9631a4-293c-45a2-81e1-5c4cece93394",
   "metadata": {},
   "outputs": [
    {
     "name": "stdout",
     "output_type": "stream",
     "text": [
      "['\\xa0Afghanistan', '\\xa0Albania', '\\xa0Algeria', '\\xa0Angola', '\\xa0Argentina', '\\xa0Australia', '\\xa0Austria', '\\xa0Azerbaijan', '\\xa0Bahrain', '\\xa0Bangladesh', '\\xa0Belarus', '\\xa0Belgium', '\\xa0Bolivia', '\\xa0Bosnia and Herzegovina', '\\xa0Botswana', '\\xa0Brazil', '\\xa0Brunei', '\\xa0Bulgaria', '\\xa0Burma', '\\xa0Cambodia', '\\xa0Cameroon', '\\xa0Canada', '\\xa0Chile', '\\xa0China', '\\xa0Colombia', '\\xa0Congo, Democratic Republic of the', '\\xa0Congo, Republic of the', '\\xa0Costa Rica', \"\\xa0Côte d'Ivoire\", '\\xa0Croatia', '\\xa0Cyprus', '\\xa0Czech Republic', '\\xa0Denmark', '\\xa0Dominican Republic', '\\xa0Ecuador', '\\xa0Egypt', '\\xa0El Salvador', '\\xa0Equatorial Guinea', '\\xa0Estonia', '\\xa0Ethiopia', '\\xa0Finland', '\\xa0France', '\\xa0Gabon', '\\xa0Georgia', '\\xa0Germany', '\\xa0Ghana', '\\xa0Greece', '\\xa0Guatemala', '\\xa0Honduras', '\\xa0Hong Kong', '\\xa0Hungary', '\\xa0Iceland', '\\xa0India', '\\xa0Indonesia', '\\xa0Iran', '\\xa0Iraq', '\\xa0Ireland', '\\xa0Israel', '\\xa0Italy', '\\xa0Jamaica', '\\xa0Japan', '\\xa0Jordan', '\\xa0Kazakhstan', '\\xa0Kenya', '\\xa0Kuwait', '\\xa0Latvia', '\\xa0Lebanon', '\\xa0Libya', '\\xa0Lithuania', '\\xa0Luxembourg', '\\xa0Malaysia', '\\xa0Mali', '\\xa0Mauritius', '\\xa0Mexico', '\\xa0Morocco', '\\xa0Mozambique', '\\xa0Namibia', '\\xa0Nepal', '\\xa0Netherlands', '\\xa0New Zealand', '\\xa0Nigeria', '\\xa0Norway', '\\xa0Oman', '\\xa0Pakistan', '\\xa0Panama', '\\xa0Papua New Guinea', '\\xa0Paraguay', '\\xa0Peru', '\\xa0Philippines', '\\xa0Poland', '\\xa0Portugal', '\\xa0Qatar', '\\xa0Romania', '\\xa0Russia', '\\xa0Saudi Arabia', '\\xa0Senegal', '\\xa0Serbia', '\\xa0Singapore', '\\xa0Slovakia', '\\xa0Slovenia', '\\xa0South Africa', '\\xa0South Korea', '\\xa0Spain', '\\xa0Sri Lanka', '\\xa0Sudan + \\xa0South Sudan', '\\xa0Sweden', '\\xa0Switzerland', '\\xa0Taiwan', '\\xa0Tanzania', '\\xa0Thailand', '\\xa0Trinidad and Tobago', '\\xa0Tunisia', '\\xa0Turkey', '\\xa0Turkmenistan', '\\xa0Uganda', '\\xa0Ukraine', '\\xa0United Arab Emirates', '\\xa0United Kingdom', '\\xa0United States', '\\xa0Uruguay', '\\xa0Uzbekistan', '\\xa0Venezuela', '\\xa0Vietnam', '\\xa0Yemen', '\\xa0Zambia']\n"
     ]
    }
   ],
   "source": [
    "product_names = list(df['Country'].unique()) \n",
    "print(product_names)"
   ]
  },
  {
   "cell_type": "code",
   "execution_count": 16,
   "id": "14fd0f0f-1e8f-4a43-866f-dda7f636aac9",
   "metadata": {},
   "outputs": [
    {
     "name": "stdout",
     "output_type": "stream",
     "text": [
      "               GDP\n",
      "Country Year      \n",
      "Canada  2010   8.0\n",
      "        2012   9.0\n",
      "Mexico  2011   6.0\n",
      "USA     2010  10.0\n",
      "        2011  12.0\n"
     ]
    }
   ],
   "source": [
    "# Create a dataframe with some sample data\n",
    "data = {\n",
    "    'Country': ['USA', 'Canada', 'USA', 'Mexico', 'Canada'],\n",
    "    'Year': [2010, 2010, 2011, 2011, 2012],\n",
    "    'GDP': [10, 8, 12, 6, 9]\n",
    "}\n",
    "df = pd.DataFrame(data)\n",
    "\n",
    "# Group the data by country and year and calculate the mean GDP\n",
    "grouped_data = df.groupby(['Country', 'Year']).mean()\n",
    "\n",
    "# Print the grouped data\n",
    "print(grouped_data)"
   ]
  },
  {
   "cell_type": "code",
   "execution_count": 17,
   "id": "9435f271-8fce-44c7-99e9-f0c406cdf72f",
   "metadata": {},
   "outputs": [
    {
     "name": "stdout",
     "output_type": "stream",
     "text": [
      "  Country  Year  GDP\n",
      "2     USA  2011   12\n",
      "0     USA  2010   10\n",
      "4  Canada  2012    9\n",
      "1  Canada  2010    8\n",
      "3  Mexico  2011    6\n"
     ]
    }
   ],
   "source": [
    "# Sort the data by GDP in descending order\n",
    "sorted_data = df.sort_values(by='GDP', ascending=False)\n",
    "\n",
    "# Print the sorted data\n",
    "print(sorted_data)"
   ]
  },
  {
   "cell_type": "code",
   "execution_count": null,
   "id": "2fcc2785-9c6d-4ce9-9bac-bbb8e64ce275",
   "metadata": {},
   "outputs": [],
   "source": []
  }
 ],
 "metadata": {
  "kernelspec": {
   "display_name": "Python 3 (ipykernel)",
   "language": "python",
   "name": "python3"
  },
  "language_info": {
   "codemirror_mode": {
    "name": "ipython",
    "version": 3
   },
   "file_extension": ".py",
   "mimetype": "text/x-python",
   "name": "python",
   "nbconvert_exporter": "python",
   "pygments_lexer": "ipython3",
   "version": "3.9.7"
  }
 },
 "nbformat": 4,
 "nbformat_minor": 5
}
